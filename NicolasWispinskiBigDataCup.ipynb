{
 "cells": [
  {
   "cell_type": "markdown",
   "id": "defensive-doubt",
   "metadata": {},
   "source": [
    "## Big Data Cup Submission\n",
    "### Nicolas Wispinski"
   ]
  },
  {
   "cell_type": "code",
   "execution_count": 1,
   "id": "julian-upgrade",
   "metadata": {},
   "outputs": [],
   "source": [
    "import pandas as pd\n",
    "import matplotlib.pyplot as plt\n",
    "import numpy as np\n",
    "import math\n",
    "\n",
    "%matplotlib inline"
   ]
  },
  {
   "cell_type": "code",
   "execution_count": 2,
   "id": "reduced-crazy",
   "metadata": {},
   "outputs": [],
   "source": [
    "womens = pd.read_csv('https://raw.githubusercontent.com/bigdatacup/Big-Data-Cup-2021/main/hackathon_womens.csv')\n",
    "nwhl = pd.read_csv('https://raw.githubusercontent.com/bigdatacup/Big-Data-Cup-2021/main/hackathon_nwhl.csv')"
   ]
  },
  {
   "cell_type": "code",
   "execution_count": 3,
   "id": "reduced-payday",
   "metadata": {},
   "outputs": [],
   "source": [
    "hockey_data = pd.concat([womens, nwhl], ignore_index=True)"
   ]
  },
  {
   "cell_type": "code",
   "execution_count": 4,
   "id": "available-german",
   "metadata": {},
   "outputs": [
    {
     "data": {
      "text/html": [
       "<div>\n",
       "<style scoped>\n",
       "    .dataframe tbody tr th:only-of-type {\n",
       "        vertical-align: middle;\n",
       "    }\n",
       "\n",
       "    .dataframe tbody tr th {\n",
       "        vertical-align: top;\n",
       "    }\n",
       "\n",
       "    .dataframe thead th {\n",
       "        text-align: right;\n",
       "    }\n",
       "</style>\n",
       "<table border=\"1\" class=\"dataframe\">\n",
       "  <thead>\n",
       "    <tr style=\"text-align: right;\">\n",
       "      <th></th>\n",
       "      <th>Period</th>\n",
       "      <th>Home Team Skaters</th>\n",
       "      <th>Away Team Skaters</th>\n",
       "      <th>Home Team Goals</th>\n",
       "      <th>Away Team Goals</th>\n",
       "      <th>X Coordinate</th>\n",
       "      <th>Y Coordinate</th>\n",
       "      <th>X Coordinate 2</th>\n",
       "      <th>Y Coordinate 2</th>\n",
       "    </tr>\n",
       "  </thead>\n",
       "  <tbody>\n",
       "    <tr>\n",
       "      <th>count</th>\n",
       "      <td>50884.000000</td>\n",
       "      <td>50884.000000</td>\n",
       "      <td>50884.000000</td>\n",
       "      <td>50884.000000</td>\n",
       "      <td>50884.000000</td>\n",
       "      <td>50884.000000</td>\n",
       "      <td>50884.000000</td>\n",
       "      <td>20784.000000</td>\n",
       "      <td>20784.000000</td>\n",
       "    </tr>\n",
       "    <tr>\n",
       "      <th>mean</th>\n",
       "      <td>2.042233</td>\n",
       "      <td>4.865773</td>\n",
       "      <td>4.854925</td>\n",
       "      <td>1.286849</td>\n",
       "      <td>1.025352</td>\n",
       "      <td>96.542508</td>\n",
       "      <td>42.322714</td>\n",
       "      <td>105.548884</td>\n",
       "      <td>42.137173</td>\n",
       "    </tr>\n",
       "    <tr>\n",
       "      <th>std</th>\n",
       "      <td>0.862888</td>\n",
       "      <td>0.368332</td>\n",
       "      <td>0.390044</td>\n",
       "      <td>1.473019</td>\n",
       "      <td>1.181912</td>\n",
       "      <td>63.064796</td>\n",
       "      <td>27.871846</td>\n",
       "      <td>59.297857</td>\n",
       "      <td>27.154036</td>\n",
       "    </tr>\n",
       "    <tr>\n",
       "      <th>min</th>\n",
       "      <td>1.000000</td>\n",
       "      <td>3.000000</td>\n",
       "      <td>3.000000</td>\n",
       "      <td>0.000000</td>\n",
       "      <td>0.000000</td>\n",
       "      <td>0.000000</td>\n",
       "      <td>0.000000</td>\n",
       "      <td>0.000000</td>\n",
       "      <td>0.000000</td>\n",
       "    </tr>\n",
       "    <tr>\n",
       "      <th>25%</th>\n",
       "      <td>1.000000</td>\n",
       "      <td>5.000000</td>\n",
       "      <td>5.000000</td>\n",
       "      <td>0.000000</td>\n",
       "      <td>0.000000</td>\n",
       "      <td>33.000000</td>\n",
       "      <td>16.000000</td>\n",
       "      <td>54.000000</td>\n",
       "      <td>17.000000</td>\n",
       "    </tr>\n",
       "    <tr>\n",
       "      <th>50%</th>\n",
       "      <td>2.000000</td>\n",
       "      <td>5.000000</td>\n",
       "      <td>5.000000</td>\n",
       "      <td>1.000000</td>\n",
       "      <td>1.000000</td>\n",
       "      <td>104.000000</td>\n",
       "      <td>42.000000</td>\n",
       "      <td>110.000000</td>\n",
       "      <td>42.000000</td>\n",
       "    </tr>\n",
       "    <tr>\n",
       "      <th>75%</th>\n",
       "      <td>3.000000</td>\n",
       "      <td>5.000000</td>\n",
       "      <td>5.000000</td>\n",
       "      <td>2.000000</td>\n",
       "      <td>2.000000</td>\n",
       "      <td>151.000000</td>\n",
       "      <td>69.000000</td>\n",
       "      <td>157.000000</td>\n",
       "      <td>68.000000</td>\n",
       "    </tr>\n",
       "    <tr>\n",
       "      <th>max</th>\n",
       "      <td>4.000000</td>\n",
       "      <td>6.000000</td>\n",
       "      <td>6.000000</td>\n",
       "      <td>6.000000</td>\n",
       "      <td>7.000000</td>\n",
       "      <td>200.000000</td>\n",
       "      <td>85.000000</td>\n",
       "      <td>200.000000</td>\n",
       "      <td>85.000000</td>\n",
       "    </tr>\n",
       "  </tbody>\n",
       "</table>\n",
       "</div>"
      ],
      "text/plain": [
       "             Period  Home Team Skaters  Away Team Skaters  Home Team Goals  \\\n",
       "count  50884.000000       50884.000000       50884.000000     50884.000000   \n",
       "mean       2.042233           4.865773           4.854925         1.286849   \n",
       "std        0.862888           0.368332           0.390044         1.473019   \n",
       "min        1.000000           3.000000           3.000000         0.000000   \n",
       "25%        1.000000           5.000000           5.000000         0.000000   \n",
       "50%        2.000000           5.000000           5.000000         1.000000   \n",
       "75%        3.000000           5.000000           5.000000         2.000000   \n",
       "max        4.000000           6.000000           6.000000         6.000000   \n",
       "\n",
       "       Away Team Goals  X Coordinate  Y Coordinate  X Coordinate 2  \\\n",
       "count     50884.000000  50884.000000  50884.000000    20784.000000   \n",
       "mean          1.025352     96.542508     42.322714      105.548884   \n",
       "std           1.181912     63.064796     27.871846       59.297857   \n",
       "min           0.000000      0.000000      0.000000        0.000000   \n",
       "25%           0.000000     33.000000     16.000000       54.000000   \n",
       "50%           1.000000    104.000000     42.000000      110.000000   \n",
       "75%           2.000000    151.000000     69.000000      157.000000   \n",
       "max           7.000000    200.000000     85.000000      200.000000   \n",
       "\n",
       "       Y Coordinate 2  \n",
       "count    20784.000000  \n",
       "mean        42.137173  \n",
       "std         27.154036  \n",
       "min          0.000000  \n",
       "25%         17.000000  \n",
       "50%         42.000000  \n",
       "75%         68.000000  \n",
       "max         85.000000  "
      ]
     },
     "execution_count": 4,
     "metadata": {},
     "output_type": "execute_result"
    }
   ],
   "source": [
    "hockey_data.describe()"
   ]
  },
  {
   "cell_type": "code",
   "execution_count": 5,
   "id": "legislative-crystal",
   "metadata": {
    "scrolled": true
   },
   "outputs": [
    {
     "data": {
      "text/html": [
       "<div>\n",
       "<style scoped>\n",
       "    .dataframe tbody tr th:only-of-type {\n",
       "        vertical-align: middle;\n",
       "    }\n",
       "\n",
       "    .dataframe tbody tr th {\n",
       "        vertical-align: top;\n",
       "    }\n",
       "\n",
       "    .dataframe thead th {\n",
       "        text-align: right;\n",
       "    }\n",
       "</style>\n",
       "<table border=\"1\" class=\"dataframe\">\n",
       "  <thead>\n",
       "    <tr style=\"text-align: right;\">\n",
       "      <th></th>\n",
       "      <th>game_date</th>\n",
       "      <th>Home Team</th>\n",
       "      <th>Away Team</th>\n",
       "      <th>Period</th>\n",
       "      <th>Clock</th>\n",
       "      <th>Home Team Skaters</th>\n",
       "      <th>Away Team Skaters</th>\n",
       "      <th>Home Team Goals</th>\n",
       "      <th>Away Team Goals</th>\n",
       "      <th>Team</th>\n",
       "      <th>...</th>\n",
       "      <th>Event</th>\n",
       "      <th>X Coordinate</th>\n",
       "      <th>Y Coordinate</th>\n",
       "      <th>Detail 1</th>\n",
       "      <th>Detail 2</th>\n",
       "      <th>Detail 3</th>\n",
       "      <th>Detail 4</th>\n",
       "      <th>Player 2</th>\n",
       "      <th>X Coordinate 2</th>\n",
       "      <th>Y Coordinate 2</th>\n",
       "    </tr>\n",
       "  </thead>\n",
       "  <tbody>\n",
       "    <tr>\n",
       "      <th>0</th>\n",
       "      <td>2018-02-11</td>\n",
       "      <td>Olympic (Women) - Canada</td>\n",
       "      <td>Olympic (Women) - Olympic Athletes from Russia</td>\n",
       "      <td>1</td>\n",
       "      <td>20:00</td>\n",
       "      <td>5</td>\n",
       "      <td>5</td>\n",
       "      <td>0</td>\n",
       "      <td>0</td>\n",
       "      <td>Olympic (Women) - Canada</td>\n",
       "      <td>...</td>\n",
       "      <td>Faceoff Win</td>\n",
       "      <td>100</td>\n",
       "      <td>42</td>\n",
       "      <td>Backhand</td>\n",
       "      <td>NaN</td>\n",
       "      <td>NaN</td>\n",
       "      <td>NaN</td>\n",
       "      <td>Lyudmila Belyakova</td>\n",
       "      <td>NaN</td>\n",
       "      <td>NaN</td>\n",
       "    </tr>\n",
       "    <tr>\n",
       "      <th>1</th>\n",
       "      <td>2018-02-11</td>\n",
       "      <td>Olympic (Women) - Canada</td>\n",
       "      <td>Olympic (Women) - Olympic Athletes from Russia</td>\n",
       "      <td>1</td>\n",
       "      <td>19:59</td>\n",
       "      <td>5</td>\n",
       "      <td>5</td>\n",
       "      <td>0</td>\n",
       "      <td>0</td>\n",
       "      <td>Olympic (Women) - Canada</td>\n",
       "      <td>...</td>\n",
       "      <td>Puck Recovery</td>\n",
       "      <td>91</td>\n",
       "      <td>67</td>\n",
       "      <td>NaN</td>\n",
       "      <td>NaN</td>\n",
       "      <td>NaN</td>\n",
       "      <td>NaN</td>\n",
       "      <td>NaN</td>\n",
       "      <td>NaN</td>\n",
       "      <td>NaN</td>\n",
       "    </tr>\n",
       "    <tr>\n",
       "      <th>2</th>\n",
       "      <td>2018-02-11</td>\n",
       "      <td>Olympic (Women) - Canada</td>\n",
       "      <td>Olympic (Women) - Olympic Athletes from Russia</td>\n",
       "      <td>1</td>\n",
       "      <td>19:59</td>\n",
       "      <td>5</td>\n",
       "      <td>5</td>\n",
       "      <td>0</td>\n",
       "      <td>0</td>\n",
       "      <td>Olympic (Women) - Canada</td>\n",
       "      <td>...</td>\n",
       "      <td>Dump In/Out</td>\n",
       "      <td>106</td>\n",
       "      <td>81</td>\n",
       "      <td>Retained</td>\n",
       "      <td>NaN</td>\n",
       "      <td>NaN</td>\n",
       "      <td>NaN</td>\n",
       "      <td>NaN</td>\n",
       "      <td>NaN</td>\n",
       "      <td>NaN</td>\n",
       "    </tr>\n",
       "    <tr>\n",
       "      <th>3</th>\n",
       "      <td>2018-02-11</td>\n",
       "      <td>Olympic (Women) - Canada</td>\n",
       "      <td>Olympic (Women) - Olympic Athletes from Russia</td>\n",
       "      <td>1</td>\n",
       "      <td>19:59</td>\n",
       "      <td>5</td>\n",
       "      <td>5</td>\n",
       "      <td>0</td>\n",
       "      <td>0</td>\n",
       "      <td>Olympic (Women) - Canada</td>\n",
       "      <td>...</td>\n",
       "      <td>Zone Entry</td>\n",
       "      <td>106</td>\n",
       "      <td>81</td>\n",
       "      <td>Dumped</td>\n",
       "      <td>NaN</td>\n",
       "      <td>NaN</td>\n",
       "      <td>NaN</td>\n",
       "      <td>Liana Ganeyeva</td>\n",
       "      <td>NaN</td>\n",
       "      <td>NaN</td>\n",
       "    </tr>\n",
       "    <tr>\n",
       "      <th>4</th>\n",
       "      <td>2018-02-11</td>\n",
       "      <td>Olympic (Women) - Canada</td>\n",
       "      <td>Olympic (Women) - Olympic Athletes from Russia</td>\n",
       "      <td>1</td>\n",
       "      <td>19:53</td>\n",
       "      <td>5</td>\n",
       "      <td>5</td>\n",
       "      <td>0</td>\n",
       "      <td>0</td>\n",
       "      <td>Olympic (Women) - Canada</td>\n",
       "      <td>...</td>\n",
       "      <td>Puck Recovery</td>\n",
       "      <td>168</td>\n",
       "      <td>1</td>\n",
       "      <td>NaN</td>\n",
       "      <td>NaN</td>\n",
       "      <td>NaN</td>\n",
       "      <td>NaN</td>\n",
       "      <td>NaN</td>\n",
       "      <td>NaN</td>\n",
       "      <td>NaN</td>\n",
       "    </tr>\n",
       "  </tbody>\n",
       "</table>\n",
       "<p>5 rows × 21 columns</p>\n",
       "</div>"
      ],
      "text/plain": [
       "    game_date                 Home Team  \\\n",
       "0  2018-02-11  Olympic (Women) - Canada   \n",
       "1  2018-02-11  Olympic (Women) - Canada   \n",
       "2  2018-02-11  Olympic (Women) - Canada   \n",
       "3  2018-02-11  Olympic (Women) - Canada   \n",
       "4  2018-02-11  Olympic (Women) - Canada   \n",
       "\n",
       "                                        Away Team  Period  Clock  \\\n",
       "0  Olympic (Women) - Olympic Athletes from Russia       1  20:00   \n",
       "1  Olympic (Women) - Olympic Athletes from Russia       1  19:59   \n",
       "2  Olympic (Women) - Olympic Athletes from Russia       1  19:59   \n",
       "3  Olympic (Women) - Olympic Athletes from Russia       1  19:59   \n",
       "4  Olympic (Women) - Olympic Athletes from Russia       1  19:53   \n",
       "\n",
       "   Home Team Skaters  Away Team Skaters  Home Team Goals  Away Team Goals  \\\n",
       "0                  5                  5                0                0   \n",
       "1                  5                  5                0                0   \n",
       "2                  5                  5                0                0   \n",
       "3                  5                  5                0                0   \n",
       "4                  5                  5                0                0   \n",
       "\n",
       "                       Team  ...          Event X Coordinate  Y Coordinate  \\\n",
       "0  Olympic (Women) - Canada  ...    Faceoff Win          100            42   \n",
       "1  Olympic (Women) - Canada  ...  Puck Recovery           91            67   \n",
       "2  Olympic (Women) - Canada  ...    Dump In/Out          106            81   \n",
       "3  Olympic (Women) - Canada  ...     Zone Entry          106            81   \n",
       "4  Olympic (Women) - Canada  ...  Puck Recovery          168             1   \n",
       "\n",
       "   Detail 1 Detail 2 Detail 3 Detail 4            Player 2 X Coordinate 2  \\\n",
       "0  Backhand      NaN      NaN      NaN  Lyudmila Belyakova            NaN   \n",
       "1       NaN      NaN      NaN      NaN                 NaN            NaN   \n",
       "2  Retained      NaN      NaN      NaN                 NaN            NaN   \n",
       "3    Dumped      NaN      NaN      NaN      Liana Ganeyeva            NaN   \n",
       "4       NaN      NaN      NaN      NaN                 NaN            NaN   \n",
       "\n",
       "   Y Coordinate 2  \n",
       "0             NaN  \n",
       "1             NaN  \n",
       "2             NaN  \n",
       "3             NaN  \n",
       "4             NaN  \n",
       "\n",
       "[5 rows x 21 columns]"
      ]
     },
     "execution_count": 5,
     "metadata": {},
     "output_type": "execute_result"
    }
   ],
   "source": [
    "hockey_data.head(5)"
   ]
  },
  {
   "cell_type": "code",
   "execution_count": 6,
   "id": "interim-weekly",
   "metadata": {},
   "outputs": [
    {
     "data": {
      "text/html": [
       "<div>\n",
       "<style scoped>\n",
       "    .dataframe tbody tr th:only-of-type {\n",
       "        vertical-align: middle;\n",
       "    }\n",
       "\n",
       "    .dataframe tbody tr th {\n",
       "        vertical-align: top;\n",
       "    }\n",
       "\n",
       "    .dataframe thead th {\n",
       "        text-align: right;\n",
       "    }\n",
       "</style>\n",
       "<table border=\"1\" class=\"dataframe\">\n",
       "  <thead>\n",
       "    <tr style=\"text-align: right;\">\n",
       "      <th></th>\n",
       "      <th>game_date</th>\n",
       "      <th>Home Team</th>\n",
       "      <th>Away Team</th>\n",
       "      <th>Period</th>\n",
       "      <th>Clock</th>\n",
       "      <th>Home Team Skaters</th>\n",
       "      <th>Away Team Skaters</th>\n",
       "      <th>Home Team Goals</th>\n",
       "      <th>Away Team Goals</th>\n",
       "      <th>Team</th>\n",
       "      <th>...</th>\n",
       "      <th>Event</th>\n",
       "      <th>X Coordinate</th>\n",
       "      <th>Y Coordinate</th>\n",
       "      <th>Detail 1</th>\n",
       "      <th>Detail 2</th>\n",
       "      <th>Detail 3</th>\n",
       "      <th>Detail 4</th>\n",
       "      <th>Player 2</th>\n",
       "      <th>X Coordinate 2</th>\n",
       "      <th>Y Coordinate 2</th>\n",
       "    </tr>\n",
       "  </thead>\n",
       "  <tbody>\n",
       "    <tr>\n",
       "      <th>50879</th>\n",
       "      <td>2021-02-01</td>\n",
       "      <td>Buffalo Beauts</td>\n",
       "      <td>Boston Pride</td>\n",
       "      <td>3</td>\n",
       "      <td>0:06</td>\n",
       "      <td>4</td>\n",
       "      <td>5</td>\n",
       "      <td>1</td>\n",
       "      <td>7</td>\n",
       "      <td>Buffalo Beauts</td>\n",
       "      <td>...</td>\n",
       "      <td>Puck Recovery</td>\n",
       "      <td>8</td>\n",
       "      <td>61</td>\n",
       "      <td>NaN</td>\n",
       "      <td>NaN</td>\n",
       "      <td>NaN</td>\n",
       "      <td>NaN</td>\n",
       "      <td>NaN</td>\n",
       "      <td>NaN</td>\n",
       "      <td>NaN</td>\n",
       "    </tr>\n",
       "    <tr>\n",
       "      <th>50880</th>\n",
       "      <td>2021-02-01</td>\n",
       "      <td>Buffalo Beauts</td>\n",
       "      <td>Boston Pride</td>\n",
       "      <td>3</td>\n",
       "      <td>0:06</td>\n",
       "      <td>4</td>\n",
       "      <td>5</td>\n",
       "      <td>1</td>\n",
       "      <td>7</td>\n",
       "      <td>Buffalo Beauts</td>\n",
       "      <td>...</td>\n",
       "      <td>Play</td>\n",
       "      <td>8</td>\n",
       "      <td>61</td>\n",
       "      <td>Indirect</td>\n",
       "      <td>NaN</td>\n",
       "      <td>NaN</td>\n",
       "      <td>NaN</td>\n",
       "      <td>Cassidy MacPherson</td>\n",
       "      <td>29.0</td>\n",
       "      <td>82.0</td>\n",
       "    </tr>\n",
       "    <tr>\n",
       "      <th>50881</th>\n",
       "      <td>2021-02-01</td>\n",
       "      <td>Buffalo Beauts</td>\n",
       "      <td>Boston Pride</td>\n",
       "      <td>3</td>\n",
       "      <td>0:05</td>\n",
       "      <td>4</td>\n",
       "      <td>5</td>\n",
       "      <td>1</td>\n",
       "      <td>7</td>\n",
       "      <td>Buffalo Beauts</td>\n",
       "      <td>...</td>\n",
       "      <td>Dump In/Out</td>\n",
       "      <td>34</td>\n",
       "      <td>84</td>\n",
       "      <td>Lost</td>\n",
       "      <td>NaN</td>\n",
       "      <td>NaN</td>\n",
       "      <td>NaN</td>\n",
       "      <td>NaN</td>\n",
       "      <td>NaN</td>\n",
       "      <td>NaN</td>\n",
       "    </tr>\n",
       "    <tr>\n",
       "      <th>50882</th>\n",
       "      <td>2021-02-01</td>\n",
       "      <td>Buffalo Beauts</td>\n",
       "      <td>Boston Pride</td>\n",
       "      <td>3</td>\n",
       "      <td>0:03</td>\n",
       "      <td>4</td>\n",
       "      <td>5</td>\n",
       "      <td>1</td>\n",
       "      <td>7</td>\n",
       "      <td>Boston Pride</td>\n",
       "      <td>...</td>\n",
       "      <td>Puck Recovery</td>\n",
       "      <td>132</td>\n",
       "      <td>4</td>\n",
       "      <td>NaN</td>\n",
       "      <td>NaN</td>\n",
       "      <td>NaN</td>\n",
       "      <td>NaN</td>\n",
       "      <td>NaN</td>\n",
       "      <td>NaN</td>\n",
       "      <td>NaN</td>\n",
       "    </tr>\n",
       "    <tr>\n",
       "      <th>50883</th>\n",
       "      <td>2021-02-01</td>\n",
       "      <td>Buffalo Beauts</td>\n",
       "      <td>Boston Pride</td>\n",
       "      <td>3</td>\n",
       "      <td>0:03</td>\n",
       "      <td>4</td>\n",
       "      <td>5</td>\n",
       "      <td>1</td>\n",
       "      <td>7</td>\n",
       "      <td>Boston Pride</td>\n",
       "      <td>...</td>\n",
       "      <td>Play</td>\n",
       "      <td>132</td>\n",
       "      <td>4</td>\n",
       "      <td>Indirect</td>\n",
       "      <td>NaN</td>\n",
       "      <td>NaN</td>\n",
       "      <td>NaN</td>\n",
       "      <td>Lexie Laing</td>\n",
       "      <td>155.0</td>\n",
       "      <td>6.0</td>\n",
       "    </tr>\n",
       "  </tbody>\n",
       "</table>\n",
       "<p>5 rows × 21 columns</p>\n",
       "</div>"
      ],
      "text/plain": [
       "        game_date       Home Team     Away Team  Period Clock  \\\n",
       "50879  2021-02-01  Buffalo Beauts  Boston Pride       3  0:06   \n",
       "50880  2021-02-01  Buffalo Beauts  Boston Pride       3  0:06   \n",
       "50881  2021-02-01  Buffalo Beauts  Boston Pride       3  0:05   \n",
       "50882  2021-02-01  Buffalo Beauts  Boston Pride       3  0:03   \n",
       "50883  2021-02-01  Buffalo Beauts  Boston Pride       3  0:03   \n",
       "\n",
       "       Home Team Skaters  Away Team Skaters  Home Team Goals  Away Team Goals  \\\n",
       "50879                  4                  5                1                7   \n",
       "50880                  4                  5                1                7   \n",
       "50881                  4                  5                1                7   \n",
       "50882                  4                  5                1                7   \n",
       "50883                  4                  5                1                7   \n",
       "\n",
       "                 Team  ...          Event X Coordinate  Y Coordinate  \\\n",
       "50879  Buffalo Beauts  ...  Puck Recovery            8            61   \n",
       "50880  Buffalo Beauts  ...           Play            8            61   \n",
       "50881  Buffalo Beauts  ...    Dump In/Out           34            84   \n",
       "50882    Boston Pride  ...  Puck Recovery          132             4   \n",
       "50883    Boston Pride  ...           Play          132             4   \n",
       "\n",
       "       Detail 1 Detail 2 Detail 3 Detail 4            Player 2 X Coordinate 2  \\\n",
       "50879       NaN      NaN      NaN      NaN                 NaN            NaN   \n",
       "50880  Indirect      NaN      NaN      NaN  Cassidy MacPherson           29.0   \n",
       "50881      Lost      NaN      NaN      NaN                 NaN            NaN   \n",
       "50882       NaN      NaN      NaN      NaN                 NaN            NaN   \n",
       "50883  Indirect      NaN      NaN      NaN         Lexie Laing          155.0   \n",
       "\n",
       "       Y Coordinate 2  \n",
       "50879             NaN  \n",
       "50880            82.0  \n",
       "50881             NaN  \n",
       "50882             NaN  \n",
       "50883             6.0  \n",
       "\n",
       "[5 rows x 21 columns]"
      ]
     },
     "execution_count": 6,
     "metadata": {},
     "output_type": "execute_result"
    }
   ],
   "source": [
    "hockey_data.tail(5)"
   ]
  },
  {
   "cell_type": "markdown",
   "id": "renewable-artist",
   "metadata": {},
   "source": [
    "## Data Cleaning"
   ]
  },
  {
   "cell_type": "code",
   "execution_count": 7,
   "id": "foreign-assessment",
   "metadata": {
    "scrolled": true
   },
   "outputs": [
    {
     "data": {
      "text/plain": [
       "Index(['game_date', 'Home Team', 'Away Team', 'Period', 'Clock',\n",
       "       'Home Team Skaters', 'Away Team Skaters', 'Home Team Goals',\n",
       "       'Away Team Goals', 'Team', 'Player', 'Event', 'X Coordinate',\n",
       "       'Y Coordinate', 'Detail 1', 'Detail 2', 'Detail 3', 'Detail 4',\n",
       "       'Player 2', 'X Coordinate 2', 'Y Coordinate 2'],\n",
       "      dtype='object')"
      ]
     },
     "execution_count": 7,
     "metadata": {},
     "output_type": "execute_result"
    }
   ],
   "source": [
    "hockey_data.columns"
   ]
  },
  {
   "cell_type": "code",
   "execution_count": 8,
   "id": "controversial-sister",
   "metadata": {},
   "outputs": [],
   "source": [
    "hockey_data.rename(columns={'game_date':'date', 'Home Team':'home', 'Away Team':'away', 'Period':'period', \n",
    "                            'Clock':'clock','Home Team Skaters':'home_skaters', 'Away Team Skaters':'away_skaters', \n",
    "                            'Home Team Goals':'home_goals','Away Team Goals':'away_goals', 'Team':'team', \n",
    "                            'Player':'player', 'Event':'event', 'X Coordinate':'x','Y Coordinate':'y', \n",
    "                            'Detail 1':'detail_1', 'Detail 2':'detail_2', 'Detail 3':'detail_3', 'Detail 4':'detail_4',\n",
    "                            'Player 2':'player_2', 'X Coordinate 2':'x_2', 'Y Coordinate 2':'y_2'},\n",
    "                  inplace=True)"
   ]
  },
  {
   "cell_type": "code",
   "execution_count": 9,
   "id": "advanced-dance",
   "metadata": {
    "scrolled": true
   },
   "outputs": [
    {
     "data": {
      "text/plain": [
       "Index(['date', 'home', 'away', 'period', 'clock', 'home_skaters',\n",
       "       'away_skaters', 'home_goals', 'away_goals', 'team', 'player', 'event',\n",
       "       'x', 'y', 'detail_1', 'detail_2', 'detail_3', 'detail_4', 'player_2',\n",
       "       'x_2', 'y_2'],\n",
       "      dtype='object')"
      ]
     },
     "execution_count": 9,
     "metadata": {},
     "output_type": "execute_result"
    }
   ],
   "source": [
    "hockey_data.columns"
   ]
  },
  {
   "cell_type": "code",
   "execution_count": 10,
   "id": "smaller-bristol",
   "metadata": {},
   "outputs": [],
   "source": [
    "hockey_data.replace({'Olympic (Women) - United States':'USA', 'Buffalo Beauts':'Beauts', 'Olympic (Women) - Canada':'Canada',\n",
    "                    'Toronto Six':'Six', 'Olympic (Women) - Finland':'Finland', 'Connecticut Whale':'Whale',\n",
    "                    'Boston Pride':'Pride', 'Metropolitan Riveters':'Riveters', 'St. Lawrence Saints':'Saints',\n",
    "                    'Clarkson Golden Knights':'GoldenKnights', 'Minnesota Whitecaps':'Whitecaps', \n",
    "                    'Olympic (Women) - Olympic Athletes from Russia':'OAR'}, \n",
    "                    inplace=True)"
   ]
  },
  {
   "cell_type": "markdown",
   "id": "inside-trinity",
   "metadata": {},
   "source": [
    "## Creating Features"
   ]
  },
  {
   "cell_type": "code",
   "execution_count": 11,
   "id": "suburban-avatar",
   "metadata": {},
   "outputs": [],
   "source": [
    "hockey_data['is_home'] = hockey_data['team'].equals(hockey_data['home'])\n",
    "hockey_data['is_home'] = hockey_data['is_home'].map({True:1, False:0})"
   ]
  },
  {
   "cell_type": "code",
   "execution_count": 12,
   "id": "foster-aircraft",
   "metadata": {},
   "outputs": [],
   "source": [
    "hockey_data['home_advantage'] = hockey_data['home_skaters'] - hockey_data['away_skaters']"
   ]
  },
  {
   "cell_type": "code",
   "execution_count": 13,
   "id": "sought-harvard",
   "metadata": {},
   "outputs": [],
   "source": [
    "hockey_data['clock'] = (pd.to_datetime(hockey_data['clock'], format='%M:%S') \n",
    "                        - pd.to_datetime(hockey_data['clock'], format='%M:%S').dt.normalize())"
   ]
  },
  {
   "cell_type": "code",
   "execution_count": 14,
   "id": "figured-bumper",
   "metadata": {},
   "outputs": [],
   "source": [
    "hockey_data['game_id'] = hockey_data['home'] + 'VS'\n",
    "hockey_data['game_id'] = hockey_data['game_id'] + hockey_data['away']\n",
    "hockey_data['game_id'] = hockey_data['game_id'] + hockey_data['date']"
   ]
  },
  {
   "cell_type": "code",
   "execution_count": 15,
   "id": "ranking-excellence",
   "metadata": {},
   "outputs": [],
   "source": [
    "hockey_data['level'] = hockey_data['team'].apply(lambda x: 1 if x == 'USA' or x == 'Canada' or x == 'Finland' or x == 'OAR'\n",
    "                                                 else (3 if x == 'Golden Knights' or x == 'Saints' else 2))"
   ]
  },
  {
   "cell_type": "code",
   "execution_count": 16,
   "id": "otherwise-macintosh",
   "metadata": {},
   "outputs": [],
   "source": [
    "hockey_data['clock_delta'] = abs(pd.to_timedelta(hockey_data['clock'].astype(str)).diff().dt.total_seconds())"
   ]
  },
  {
   "cell_type": "code",
   "execution_count": 17,
   "id": "concrete-junior",
   "metadata": {},
   "outputs": [],
   "source": [
    "x = 1\n",
    "for i in range(0, len(hockey_data.index)):\n",
    "    if hockey_data.loc[i, 'event'] == 'Faceoff Win':\n",
    "        hockey_data.loc[i, 'play_id'] = x\n",
    "        hockey_data.loc[i, 'clock_delta'] = 0\n",
    "        x += 1\n",
    "    elif hockey_data.loc[i-1, 'team'] == hockey_data.loc[i, 'team']:\n",
    "        hockey_data.loc[i, 'play_id'] = hockey_data.loc[i-1, 'play_id']\n",
    "        hockey_data.loc[i, 'prev_event'] = hockey_data.loc[i-1, 'event']\n",
    "    else:\n",
    "        hockey_data.loc[i, 'play_id'] = x\n",
    "        hockey_data.loc[i, 'prev_event'] = hockey_data.loc[i-1, 'event']        \n",
    "        x += 1"
   ]
  },
  {
   "cell_type": "code",
   "execution_count": 18,
   "id": "operating-projection",
   "metadata": {},
   "outputs": [],
   "source": [
    "for j in range(1, len(hockey_data.index)):\n",
    "    if hockey_data.loc[j-1, 'event'] == 'play':\n",
    "        hockey_data.loc[j, 'prev_event_distance'] = np.sqrt((hockey_data.loc[j-1,'x_2']-hockey_data.loc[j,'x'])**2 +\n",
    "                                                           (hockey_data.loc[j-1,'y_2']-hockey_data.loc[j,'y'])**2)\n",
    "    elif hockey_data.loc[j, 'event'] == 'Faceoff Win':\n",
    "        hockey_data.loc[j, 'prev_event_distance'] == np.nan\n",
    "    else:\n",
    "        hockey_data.loc[j, 'prev_event_distance'] = np.sqrt((hockey_data.loc[j-1,'x']-hockey_data.loc[j,'x'])**2 +\n",
    "                                                           (hockey_data.loc[j-1,'y']-hockey_data.loc[j,'y'])**2)"
   ]
  },
  {
   "cell_type": "code",
   "execution_count": 19,
   "id": "serial-tribute",
   "metadata": {},
   "outputs": [],
   "source": [
    "hockey_data['net_distance'] = ((hockey_data['x']-189)**2+(hockey_data['y']-42.5)**2)**0.5"
   ]
  },
  {
   "cell_type": "code",
   "execution_count": 20,
   "id": "signed-conspiracy",
   "metadata": {},
   "outputs": [],
   "source": [
    "hockey_data['net_angle'] = (abs(42.5-hockey_data['y'])/abs(hockey_data['net_distance']))\n",
    "hockey_data['net_angle'] = abs(hockey_data['net_angle'].apply(lambda x: math.asin(x)))"
   ]
  },
  {
   "cell_type": "code",
   "execution_count": 21,
   "id": "plastic-replacement",
   "metadata": {},
   "outputs": [],
   "source": [
    "goals = hockey_data.loc[hockey_data['event']=='Goal']\n",
    "shots = hockey_data.loc[hockey_data['event']=='Shot']"
   ]
  },
  {
   "cell_type": "code",
   "execution_count": 22,
   "id": "found-criterion",
   "metadata": {},
   "outputs": [],
   "source": [
    "on_net = shots.loc[shots['detail_2']=='On Net']"
   ]
  },
  {
   "cell_type": "code",
   "execution_count": 23,
   "id": "julian-discrimination",
   "metadata": {},
   "outputs": [],
   "source": [
    "X = pd.concat([goals, on_net])"
   ]
  },
  {
   "cell_type": "code",
   "execution_count": 24,
   "id": "postal-literature",
   "metadata": {},
   "outputs": [],
   "source": [
    "X.rename(columns={'detail_1':'shot_type', 'detail_3':'traffic', 'detail_4':'one_timer'}, inplace=True)"
   ]
  },
  {
   "cell_type": "code",
   "execution_count": 25,
   "id": "external-isolation",
   "metadata": {},
   "outputs": [],
   "source": [
    "events = pd.get_dummies(X.prev_event)\n",
    "X = pd.concat([X, events], axis=1)"
   ]
  },
  {
   "cell_type": "code",
   "execution_count": 26,
   "id": "parliamentary-dakota",
   "metadata": {},
   "outputs": [],
   "source": [
    "X.traffic = X.traffic.map({'t':1, 'f':0})\n",
    "X.one_timer = X.one_timer.map({'t':1, 'f':0})\n",
    "X.event = X.event.map({'Goal':1, 'Shot':0})"
   ]
  },
  {
   "cell_type": "code",
   "execution_count": 27,
   "id": "capable-moisture",
   "metadata": {},
   "outputs": [],
   "source": [
    "y = X.event\n",
    "z = X.play_id\n",
    "X.drop(columns=['date', 'period', 'home', 'away', 'team', 'player', 'detail_2', 'player_2', 'shot_type', 'event', \n",
    "                'prev_event', 'clock','home_goals', 'away_goals', 'home_skaters', 'away_skaters', 'game_id', 'play_id', \n",
    "                'x', 'y', 'x_2', 'y_2',], \n",
    "       inplace=True)"
   ]
  },
  {
   "cell_type": "code",
   "execution_count": 28,
   "id": "outer-timothy",
   "metadata": {},
   "outputs": [],
   "source": [
    "X.fillna(0, inplace=True)"
   ]
  },
  {
   "cell_type": "code",
   "execution_count": 29,
   "id": "limiting-eligibility",
   "metadata": {
    "scrolled": true
   },
   "outputs": [
    {
     "data": {
      "text/plain": [
       "traffic                0.000000\n",
       "one_timer              0.000000\n",
       "is_home                0.000000\n",
       "home_advantage         0.000000\n",
       "level                  2.000000\n",
       "clock_delta            0.000000\n",
       "prev_event_distance    0.000000\n",
       "net_distance           6.800735\n",
       "net_angle              0.942000\n",
       "Play                   0.000000\n",
       "Puck Recovery          1.000000\n",
       "Shot                   0.000000\n",
       "Takeaway               0.000000\n",
       "Zone Entry             0.000000\n",
       "Name: 41290, dtype: float64"
      ]
     },
     "execution_count": 29,
     "metadata": {},
     "output_type": "execute_result"
    }
   ],
   "source": [
    "X.iloc[99]"
   ]
  },
  {
   "cell_type": "markdown",
   "id": "varying-drilling",
   "metadata": {},
   "source": [
    "## Expected Goals Model"
   ]
  },
  {
   "cell_type": "code",
   "execution_count": 30,
   "id": "vulnerable-brunswick",
   "metadata": {},
   "outputs": [],
   "source": [
    "from sklearn.linear_model import LogisticRegression"
   ]
  },
  {
   "cell_type": "code",
   "execution_count": 31,
   "id": "quiet-chinese",
   "metadata": {},
   "outputs": [],
   "source": [
    "logreg = LogisticRegression(random_state=99, max_iter=400).fit(X, y)"
   ]
  },
  {
   "cell_type": "code",
   "execution_count": 32,
   "id": "simplified-talent",
   "metadata": {},
   "outputs": [],
   "source": [
    "pred = logreg.predict(X)"
   ]
  },
  {
   "cell_type": "code",
   "execution_count": 33,
   "id": "delayed-triple",
   "metadata": {},
   "outputs": [
    {
     "data": {
      "text/html": [
       "<div>\n",
       "<style scoped>\n",
       "    .dataframe tbody tr th:only-of-type {\n",
       "        vertical-align: middle;\n",
       "    }\n",
       "\n",
       "    .dataframe tbody tr th {\n",
       "        vertical-align: top;\n",
       "    }\n",
       "\n",
       "    .dataframe thead th {\n",
       "        text-align: right;\n",
       "    }\n",
       "</style>\n",
       "<table border=\"1\" class=\"dataframe\">\n",
       "  <thead>\n",
       "    <tr style=\"text-align: right;\">\n",
       "      <th></th>\n",
       "      <th>coef</th>\n",
       "    </tr>\n",
       "  </thead>\n",
       "  <tbody>\n",
       "    <tr>\n",
       "      <th>traffic</th>\n",
       "      <td>1.444452</td>\n",
       "    </tr>\n",
       "    <tr>\n",
       "      <th>one_timer</th>\n",
       "      <td>1.284082</td>\n",
       "    </tr>\n",
       "    <tr>\n",
       "      <th>is_home</th>\n",
       "      <td>1.000000</td>\n",
       "    </tr>\n",
       "    <tr>\n",
       "      <th>home_advantage</th>\n",
       "      <td>1.028483</td>\n",
       "    </tr>\n",
       "    <tr>\n",
       "      <th>level</th>\n",
       "      <td>1.242477</td>\n",
       "    </tr>\n",
       "    <tr>\n",
       "      <th>clock_delta</th>\n",
       "      <td>0.670693</td>\n",
       "    </tr>\n",
       "    <tr>\n",
       "      <th>prev_event_distance</th>\n",
       "      <td>1.016646</td>\n",
       "    </tr>\n",
       "    <tr>\n",
       "      <th>net_distance</th>\n",
       "      <td>0.948785</td>\n",
       "    </tr>\n",
       "    <tr>\n",
       "      <th>net_angle</th>\n",
       "      <td>0.447064</td>\n",
       "    </tr>\n",
       "    <tr>\n",
       "      <th>Play</th>\n",
       "      <td>1.030968</td>\n",
       "    </tr>\n",
       "    <tr>\n",
       "      <th>Puck Recovery</th>\n",
       "      <td>0.902833</td>\n",
       "    </tr>\n",
       "    <tr>\n",
       "      <th>Shot</th>\n",
       "      <td>1.318950</td>\n",
       "    </tr>\n",
       "    <tr>\n",
       "      <th>Takeaway</th>\n",
       "      <td>0.998801</td>\n",
       "    </tr>\n",
       "    <tr>\n",
       "      <th>Zone Entry</th>\n",
       "      <td>0.811498</td>\n",
       "    </tr>\n",
       "  </tbody>\n",
       "</table>\n",
       "</div>"
      ],
      "text/plain": [
       "                         coef\n",
       "traffic              1.444452\n",
       "one_timer            1.284082\n",
       "is_home              1.000000\n",
       "home_advantage       1.028483\n",
       "level                1.242477\n",
       "clock_delta          0.670693\n",
       "prev_event_distance  1.016646\n",
       "net_distance         0.948785\n",
       "net_angle            0.447064\n",
       "Play                 1.030968\n",
       "Puck Recovery        0.902833\n",
       "Shot                 1.318950\n",
       "Takeaway             0.998801\n",
       "Zone Entry           0.811498"
      ]
     },
     "execution_count": 33,
     "metadata": {},
     "output_type": "execute_result"
    }
   ],
   "source": [
    "odds = np.exp(logreg.coef_[0])\n",
    "pd.DataFrame(odds, X.columns, columns=['coef'])"
   ]
  },
  {
   "cell_type": "code",
   "execution_count": 34,
   "id": "killing-butterfly",
   "metadata": {},
   "outputs": [],
   "source": [
    "X['expected_goals'] = logreg.predict_proba(X)[:, 1]"
   ]
  },
  {
   "cell_type": "code",
   "execution_count": 35,
   "id": "novel-sucking",
   "metadata": {},
   "outputs": [],
   "source": [
    "X['predict_goal'] = X['expected_goals'].apply(lambda x: 1 if x> X['expected_goals'].quantile(0.85) else 0)"
   ]
  },
  {
   "cell_type": "markdown",
   "id": "activated-programmer",
   "metadata": {},
   "source": [
    "## Decision Tree"
   ]
  },
  {
   "cell_type": "code",
   "execution_count": 36,
   "id": "interior-premiere",
   "metadata": {},
   "outputs": [],
   "source": [
    "olympic = X.loc[X['level']==1]\n",
    "nwhl = X.loc[X['level']==2]\n",
    "ncaa =  X.loc[X['level']==3]"
   ]
  },
  {
   "cell_type": "code",
   "execution_count": 37,
   "id": "perceived-surprise",
   "metadata": {},
   "outputs": [],
   "source": [
    "y=X.predict_goal\n",
    "X.drop(columns={'predict_goal', 'expected_goals'}, inplace=True)"
   ]
  },
  {
   "cell_type": "code",
   "execution_count": 38,
   "id": "prepared-motel",
   "metadata": {},
   "outputs": [],
   "source": [
    "from sklearn.tree import DecisionTreeRegressor\n",
    "from sklearn.tree import plot_tree"
   ]
  },
  {
   "cell_type": "code",
   "execution_count": 39,
   "id": "right-steering",
   "metadata": {},
   "outputs": [
    {
     "data": {
      "text/plain": [
       "DecisionTreeRegressor(max_depth=3, random_state=99)"
      ]
     },
     "execution_count": 39,
     "metadata": {},
     "output_type": "execute_result"
    }
   ],
   "source": [
    "treereg = DecisionTreeRegressor(random_state=99, max_depth=3)\n",
    "treereg"
   ]
  },
  {
   "cell_type": "code",
   "execution_count": 40,
   "id": "composite-chocolate",
   "metadata": {},
   "outputs": [
    {
     "data": {
      "text/plain": [
       "DecisionTreeRegressor(max_depth=3, random_state=99)"
      ]
     },
     "execution_count": 40,
     "metadata": {},
     "output_type": "execute_result"
    }
   ],
   "source": [
    "treereg.fit(X, y)"
   ]
  },
  {
   "cell_type": "code",
   "execution_count": 41,
   "id": "naked-homeless",
   "metadata": {},
   "outputs": [
    {
     "data": {
      "text/html": [
       "<div>\n",
       "<style scoped>\n",
       "    .dataframe tbody tr th:only-of-type {\n",
       "        vertical-align: middle;\n",
       "    }\n",
       "\n",
       "    .dataframe tbody tr th {\n",
       "        vertical-align: top;\n",
       "    }\n",
       "\n",
       "    .dataframe thead th {\n",
       "        text-align: right;\n",
       "    }\n",
       "</style>\n",
       "<table border=\"1\" class=\"dataframe\">\n",
       "  <thead>\n",
       "    <tr style=\"text-align: right;\">\n",
       "      <th></th>\n",
       "      <th>feature</th>\n",
       "      <th>importance</th>\n",
       "    </tr>\n",
       "  </thead>\n",
       "  <tbody>\n",
       "    <tr>\n",
       "      <th>0</th>\n",
       "      <td>traffic</td>\n",
       "      <td>0.000000</td>\n",
       "    </tr>\n",
       "    <tr>\n",
       "      <th>1</th>\n",
       "      <td>one_timer</td>\n",
       "      <td>0.036280</td>\n",
       "    </tr>\n",
       "    <tr>\n",
       "      <th>2</th>\n",
       "      <td>is_home</td>\n",
       "      <td>0.000000</td>\n",
       "    </tr>\n",
       "    <tr>\n",
       "      <th>3</th>\n",
       "      <td>home_advantage</td>\n",
       "      <td>0.000000</td>\n",
       "    </tr>\n",
       "    <tr>\n",
       "      <th>4</th>\n",
       "      <td>level</td>\n",
       "      <td>0.000000</td>\n",
       "    </tr>\n",
       "    <tr>\n",
       "      <th>5</th>\n",
       "      <td>clock_delta</td>\n",
       "      <td>0.028033</td>\n",
       "    </tr>\n",
       "    <tr>\n",
       "      <th>6</th>\n",
       "      <td>prev_event_distance</td>\n",
       "      <td>0.011914</td>\n",
       "    </tr>\n",
       "    <tr>\n",
       "      <th>7</th>\n",
       "      <td>net_distance</td>\n",
       "      <td>0.470002</td>\n",
       "    </tr>\n",
       "    <tr>\n",
       "      <th>8</th>\n",
       "      <td>net_angle</td>\n",
       "      <td>0.382604</td>\n",
       "    </tr>\n",
       "    <tr>\n",
       "      <th>9</th>\n",
       "      <td>Play</td>\n",
       "      <td>0.000000</td>\n",
       "    </tr>\n",
       "    <tr>\n",
       "      <th>10</th>\n",
       "      <td>Puck Recovery</td>\n",
       "      <td>0.000000</td>\n",
       "    </tr>\n",
       "    <tr>\n",
       "      <th>11</th>\n",
       "      <td>Shot</td>\n",
       "      <td>0.071166</td>\n",
       "    </tr>\n",
       "    <tr>\n",
       "      <th>12</th>\n",
       "      <td>Takeaway</td>\n",
       "      <td>0.000000</td>\n",
       "    </tr>\n",
       "    <tr>\n",
       "      <th>13</th>\n",
       "      <td>Zone Entry</td>\n",
       "      <td>0.000000</td>\n",
       "    </tr>\n",
       "  </tbody>\n",
       "</table>\n",
       "</div>"
      ],
      "text/plain": [
       "                feature  importance\n",
       "0               traffic    0.000000\n",
       "1             one_timer    0.036280\n",
       "2               is_home    0.000000\n",
       "3        home_advantage    0.000000\n",
       "4                 level    0.000000\n",
       "5           clock_delta    0.028033\n",
       "6   prev_event_distance    0.011914\n",
       "7          net_distance    0.470002\n",
       "8             net_angle    0.382604\n",
       "9                  Play    0.000000\n",
       "10        Puck Recovery    0.000000\n",
       "11                 Shot    0.071166\n",
       "12             Takeaway    0.000000\n",
       "13           Zone Entry    0.000000"
      ]
     },
     "execution_count": 41,
     "metadata": {},
     "output_type": "execute_result"
    }
   ],
   "source": [
    "pd.DataFrame({'feature':X.columns, 'importance':treereg.feature_importances_})"
   ]
  },
  {
   "cell_type": "code",
   "execution_count": 42,
   "id": "challenging-budget",
   "metadata": {},
   "outputs": [
    {
     "data": {
      "image/png": "[encoded data removed]",
      "text/plain": [
       "<Figure size 1008x432 with 1 Axes>"
      ]
     },
     "metadata": {
      "needs_background": "light"
     },
     "output_type": "display_data"
    }
   ],
   "source": [
    "fig, ax = plt.subplots(1,1, figsize=(14,6))\n",
    "plot_tree(treereg, feature_names=X.columns, fontsize=12, filled=True);"
   ]
  },
  {
   "cell_type": "code",
   "execution_count": 43,
   "id": "wired-switch",
   "metadata": {},
   "outputs": [],
   "source": [
    "olympic_y = olympic.predict_goal\n",
    "olympic_X = olympic.drop(columns={'predict_goal', 'expected_goals'})\n",
    "\n",
    "nwhl_y = nwhl.predict_goal\n",
    "nwhl_X = nwhl.drop(columns={'predict_goal', 'expected_goals'})\n",
    "\n",
    "ncaa_y = ncaa.predict_goal\n",
    "ncaa_X = ncaa.drop(columns={'predict_goal', 'expected_goals'})"
   ]
  },
  {
   "cell_type": "code",
   "execution_count": 44,
   "id": "flush-honor",
   "metadata": {},
   "outputs": [
    {
     "data": {
      "text/plain": [
       "DecisionTreeRegressor(max_depth=3, random_state=99)"
      ]
     },
     "execution_count": 44,
     "metadata": {},
     "output_type": "execute_result"
    }
   ],
   "source": [
    "olympictree = DecisionTreeRegressor(random_state=99, max_depth=3)\n",
    "olympictree"
   ]
  },
  {
   "cell_type": "code",
   "execution_count": 45,
   "id": "stylish-sunset",
   "metadata": {},
   "outputs": [
    {
     "data": {
      "text/plain": [
       "DecisionTreeRegressor(max_depth=3, random_state=99)"
      ]
     },
     "execution_count": 45,
     "metadata": {},
     "output_type": "execute_result"
    }
   ],
   "source": [
    "olympictree.fit(olympic_X, olympic_y)"
   ]
  },
  {
   "cell_type": "code",
   "execution_count": 46,
   "id": "aging-access",
   "metadata": {},
   "outputs": [
    {
     "data": {
      "text/html": [
       "<div>\n",
       "<style scoped>\n",
       "    .dataframe tbody tr th:only-of-type {\n",
       "        vertical-align: middle;\n",
       "    }\n",
       "\n",
       "    .dataframe tbody tr th {\n",
       "        vertical-align: top;\n",
       "    }\n",
       "\n",
       "    .dataframe thead th {\n",
       "        text-align: right;\n",
       "    }\n",
       "</style>\n",
       "<table border=\"1\" class=\"dataframe\">\n",
       "  <thead>\n",
       "    <tr style=\"text-align: right;\">\n",
       "      <th></th>\n",
       "      <th>feature</th>\n",
       "      <th>importance</th>\n",
       "    </tr>\n",
       "  </thead>\n",
       "  <tbody>\n",
       "    <tr>\n",
       "      <th>0</th>\n",
       "      <td>traffic</td>\n",
       "      <td>0.000000</td>\n",
       "    </tr>\n",
       "    <tr>\n",
       "      <th>1</th>\n",
       "      <td>one_timer</td>\n",
       "      <td>0.024068</td>\n",
       "    </tr>\n",
       "    <tr>\n",
       "      <th>2</th>\n",
       "      <td>is_home</td>\n",
       "      <td>0.000000</td>\n",
       "    </tr>\n",
       "    <tr>\n",
       "      <th>3</th>\n",
       "      <td>home_advantage</td>\n",
       "      <td>0.000000</td>\n",
       "    </tr>\n",
       "    <tr>\n",
       "      <th>4</th>\n",
       "      <td>level</td>\n",
       "      <td>0.000000</td>\n",
       "    </tr>\n",
       "    <tr>\n",
       "      <th>5</th>\n",
       "      <td>clock_delta</td>\n",
       "      <td>0.044406</td>\n",
       "    </tr>\n",
       "    <tr>\n",
       "      <th>6</th>\n",
       "      <td>prev_event_distance</td>\n",
       "      <td>0.014570</td>\n",
       "    </tr>\n",
       "    <tr>\n",
       "      <th>7</th>\n",
       "      <td>net_distance</td>\n",
       "      <td>0.454288</td>\n",
       "    </tr>\n",
       "    <tr>\n",
       "      <th>8</th>\n",
       "      <td>net_angle</td>\n",
       "      <td>0.360350</td>\n",
       "    </tr>\n",
       "    <tr>\n",
       "      <th>9</th>\n",
       "      <td>Play</td>\n",
       "      <td>0.000000</td>\n",
       "    </tr>\n",
       "    <tr>\n",
       "      <th>10</th>\n",
       "      <td>Puck Recovery</td>\n",
       "      <td>0.000000</td>\n",
       "    </tr>\n",
       "    <tr>\n",
       "      <th>11</th>\n",
       "      <td>Shot</td>\n",
       "      <td>0.102318</td>\n",
       "    </tr>\n",
       "    <tr>\n",
       "      <th>12</th>\n",
       "      <td>Takeaway</td>\n",
       "      <td>0.000000</td>\n",
       "    </tr>\n",
       "    <tr>\n",
       "      <th>13</th>\n",
       "      <td>Zone Entry</td>\n",
       "      <td>0.000000</td>\n",
       "    </tr>\n",
       "  </tbody>\n",
       "</table>\n",
       "</div>"
      ],
      "text/plain": [
       "                feature  importance\n",
       "0               traffic    0.000000\n",
       "1             one_timer    0.024068\n",
       "2               is_home    0.000000\n",
       "3        home_advantage    0.000000\n",
       "4                 level    0.000000\n",
       "5           clock_delta    0.044406\n",
       "6   prev_event_distance    0.014570\n",
       "7          net_distance    0.454288\n",
       "8             net_angle    0.360350\n",
       "9                  Play    0.000000\n",
       "10        Puck Recovery    0.000000\n",
       "11                 Shot    0.102318\n",
       "12             Takeaway    0.000000\n",
       "13           Zone Entry    0.000000"
      ]
     },
     "execution_count": 46,
     "metadata": {},
     "output_type": "execute_result"
    }
   ],
   "source": [
    "pd.DataFrame({'feature':olympic_X.columns, 'importance':olympictree.feature_importances_})"
   ]
  },
  {
   "cell_type": "code",
   "execution_count": 47,
   "id": "understanding-lighter",
   "metadata": {},
   "outputs": [
    {
     "data": {
      "image/png": "[encoded data removed]",
      "text/plain": [
       "<Figure size 1008x432 with 1 Axes>"
      ]
     },
     "metadata": {
      "needs_background": "light"
     },
     "output_type": "display_data"
    }
   ],
   "source": [
    "fig, ax = plt.subplots(1,1, figsize=(14,6))\n",
    "plot_tree(olympictree, feature_names=olympic_X.columns, fontsize=12, filled=True);"
   ]
  },
  {
   "cell_type": "code",
   "execution_count": 48,
   "id": "lyric-immigration",
   "metadata": {},
   "outputs": [
    {
     "data": {
      "text/plain": [
       "DecisionTreeRegressor(max_depth=3, random_state=99)"
      ]
     },
     "execution_count": 48,
     "metadata": {},
     "output_type": "execute_result"
    }
   ],
   "source": [
    "nwhltree = DecisionTreeRegressor(random_state=99, max_depth=3)\n",
    "nwhltree"
   ]
  },
  {
   "cell_type": "code",
   "execution_count": 49,
   "id": "mysterious-grocery",
   "metadata": {},
   "outputs": [
    {
     "data": {
      "text/plain": [
       "DecisionTreeRegressor(max_depth=3, random_state=99)"
      ]
     },
     "execution_count": 49,
     "metadata": {},
     "output_type": "execute_result"
    }
   ],
   "source": [
    "nwhltree.fit(nwhl_X, nwhl_y)"
   ]
  },
  {
   "cell_type": "code",
   "execution_count": 50,
   "id": "olympic-palestine",
   "metadata": {},
   "outputs": [
    {
     "data": {
      "text/html": [
       "<div>\n",
       "<style scoped>\n",
       "    .dataframe tbody tr th:only-of-type {\n",
       "        vertical-align: middle;\n",
       "    }\n",
       "\n",
       "    .dataframe tbody tr th {\n",
       "        vertical-align: top;\n",
       "    }\n",
       "\n",
       "    .dataframe thead th {\n",
       "        text-align: right;\n",
       "    }\n",
       "</style>\n",
       "<table border=\"1\" class=\"dataframe\">\n",
       "  <thead>\n",
       "    <tr style=\"text-align: right;\">\n",
       "      <th></th>\n",
       "      <th>feature</th>\n",
       "      <th>importance</th>\n",
       "    </tr>\n",
       "  </thead>\n",
       "  <tbody>\n",
       "    <tr>\n",
       "      <th>0</th>\n",
       "      <td>traffic</td>\n",
       "      <td>0.000000</td>\n",
       "    </tr>\n",
       "    <tr>\n",
       "      <th>1</th>\n",
       "      <td>one_timer</td>\n",
       "      <td>0.064810</td>\n",
       "    </tr>\n",
       "    <tr>\n",
       "      <th>2</th>\n",
       "      <td>is_home</td>\n",
       "      <td>0.000000</td>\n",
       "    </tr>\n",
       "    <tr>\n",
       "      <th>3</th>\n",
       "      <td>home_advantage</td>\n",
       "      <td>0.000000</td>\n",
       "    </tr>\n",
       "    <tr>\n",
       "      <th>4</th>\n",
       "      <td>level</td>\n",
       "      <td>0.000000</td>\n",
       "    </tr>\n",
       "    <tr>\n",
       "      <th>5</th>\n",
       "      <td>clock_delta</td>\n",
       "      <td>0.000000</td>\n",
       "    </tr>\n",
       "    <tr>\n",
       "      <th>6</th>\n",
       "      <td>prev_event_distance</td>\n",
       "      <td>0.009972</td>\n",
       "    </tr>\n",
       "    <tr>\n",
       "      <th>7</th>\n",
       "      <td>net_distance</td>\n",
       "      <td>0.457829</td>\n",
       "    </tr>\n",
       "    <tr>\n",
       "      <th>8</th>\n",
       "      <td>net_angle</td>\n",
       "      <td>0.410533</td>\n",
       "    </tr>\n",
       "    <tr>\n",
       "      <th>9</th>\n",
       "      <td>Play</td>\n",
       "      <td>0.000000</td>\n",
       "    </tr>\n",
       "    <tr>\n",
       "      <th>10</th>\n",
       "      <td>Puck Recovery</td>\n",
       "      <td>0.000000</td>\n",
       "    </tr>\n",
       "    <tr>\n",
       "      <th>11</th>\n",
       "      <td>Shot</td>\n",
       "      <td>0.056856</td>\n",
       "    </tr>\n",
       "    <tr>\n",
       "      <th>12</th>\n",
       "      <td>Takeaway</td>\n",
       "      <td>0.000000</td>\n",
       "    </tr>\n",
       "    <tr>\n",
       "      <th>13</th>\n",
       "      <td>Zone Entry</td>\n",
       "      <td>0.000000</td>\n",
       "    </tr>\n",
       "  </tbody>\n",
       "</table>\n",
       "</div>"
      ],
      "text/plain": [
       "                feature  importance\n",
       "0               traffic    0.000000\n",
       "1             one_timer    0.064810\n",
       "2               is_home    0.000000\n",
       "3        home_advantage    0.000000\n",
       "4                 level    0.000000\n",
       "5           clock_delta    0.000000\n",
       "6   prev_event_distance    0.009972\n",
       "7          net_distance    0.457829\n",
       "8             net_angle    0.410533\n",
       "9                  Play    0.000000\n",
       "10        Puck Recovery    0.000000\n",
       "11                 Shot    0.056856\n",
       "12             Takeaway    0.000000\n",
       "13           Zone Entry    0.000000"
      ]
     },
     "execution_count": 50,
     "metadata": {},
     "output_type": "execute_result"
    }
   ],
   "source": [
    "pd.DataFrame({'feature':nwhl_X.columns, 'importance':nwhltree.feature_importances_})"
   ]
  },
  {
   "cell_type": "code",
   "execution_count": 51,
   "id": "imperial-correspondence",
   "metadata": {},
   "outputs": [
    {
     "data": {
      "image/png": "[encoded data removed]",
      "text/plain": [
       "<Figure size 1008x432 with 1 Axes>"
      ]
     },
     "metadata": {
      "needs_background": "light"
     },
     "output_type": "display_data"
    }
   ],
   "source": [
    "fig, ax = plt.subplots(1,1, figsize=(14,6))\n",
    "plot_tree(nwhltree, feature_names=nwhl_X.columns, fontsize=12, filled=True);"
   ]
  },
  {
   "cell_type": "code",
   "execution_count": 52,
   "id": "conscious-lover",
   "metadata": {},
   "outputs": [
    {
     "data": {
      "text/plain": [
       "DecisionTreeRegressor(max_depth=3, random_state=99)"
      ]
     },
     "execution_count": 52,
     "metadata": {},
     "output_type": "execute_result"
    }
   ],
   "source": [
    "ncaatree = DecisionTreeRegressor(random_state=99, max_depth=3)\n",
    "ncaatree"
   ]
  },
  {
   "cell_type": "code",
   "execution_count": 53,
   "id": "elegant-powder",
   "metadata": {},
   "outputs": [
    {
     "data": {
      "text/plain": [
       "DecisionTreeRegressor(max_depth=3, random_state=99)"
      ]
     },
     "execution_count": 53,
     "metadata": {},
     "output_type": "execute_result"
    }
   ],
   "source": [
    "ncaatree.fit(ncaa_X, ncaa_y)"
   ]
  },
  {
   "cell_type": "code",
   "execution_count": 54,
   "id": "touched-adobe",
   "metadata": {},
   "outputs": [
    {
     "data": {
      "text/html": [
       "<div>\n",
       "<style scoped>\n",
       "    .dataframe tbody tr th:only-of-type {\n",
       "        vertical-align: middle;\n",
       "    }\n",
       "\n",
       "    .dataframe tbody tr th {\n",
       "        vertical-align: top;\n",
       "    }\n",
       "\n",
       "    .dataframe thead th {\n",
       "        text-align: right;\n",
       "    }\n",
       "</style>\n",
       "<table border=\"1\" class=\"dataframe\">\n",
       "  <thead>\n",
       "    <tr style=\"text-align: right;\">\n",
       "      <th></th>\n",
       "      <th>feature</th>\n",
       "      <th>importance</th>\n",
       "    </tr>\n",
       "  </thead>\n",
       "  <tbody>\n",
       "    <tr>\n",
       "      <th>0</th>\n",
       "      <td>traffic</td>\n",
       "      <td>0.079100</td>\n",
       "    </tr>\n",
       "    <tr>\n",
       "      <th>1</th>\n",
       "      <td>one_timer</td>\n",
       "      <td>0.000000</td>\n",
       "    </tr>\n",
       "    <tr>\n",
       "      <th>2</th>\n",
       "      <td>is_home</td>\n",
       "      <td>0.000000</td>\n",
       "    </tr>\n",
       "    <tr>\n",
       "      <th>3</th>\n",
       "      <td>home_advantage</td>\n",
       "      <td>0.020577</td>\n",
       "    </tr>\n",
       "    <tr>\n",
       "      <th>4</th>\n",
       "      <td>level</td>\n",
       "      <td>0.000000</td>\n",
       "    </tr>\n",
       "    <tr>\n",
       "      <th>5</th>\n",
       "      <td>clock_delta</td>\n",
       "      <td>0.000000</td>\n",
       "    </tr>\n",
       "    <tr>\n",
       "      <th>6</th>\n",
       "      <td>prev_event_distance</td>\n",
       "      <td>0.000000</td>\n",
       "    </tr>\n",
       "    <tr>\n",
       "      <th>7</th>\n",
       "      <td>net_distance</td>\n",
       "      <td>0.506771</td>\n",
       "    </tr>\n",
       "    <tr>\n",
       "      <th>8</th>\n",
       "      <td>net_angle</td>\n",
       "      <td>0.308490</td>\n",
       "    </tr>\n",
       "    <tr>\n",
       "      <th>9</th>\n",
       "      <td>Play</td>\n",
       "      <td>0.000000</td>\n",
       "    </tr>\n",
       "    <tr>\n",
       "      <th>10</th>\n",
       "      <td>Puck Recovery</td>\n",
       "      <td>0.000000</td>\n",
       "    </tr>\n",
       "    <tr>\n",
       "      <th>11</th>\n",
       "      <td>Shot</td>\n",
       "      <td>0.000000</td>\n",
       "    </tr>\n",
       "    <tr>\n",
       "      <th>12</th>\n",
       "      <td>Takeaway</td>\n",
       "      <td>0.085063</td>\n",
       "    </tr>\n",
       "    <tr>\n",
       "      <th>13</th>\n",
       "      <td>Zone Entry</td>\n",
       "      <td>0.000000</td>\n",
       "    </tr>\n",
       "  </tbody>\n",
       "</table>\n",
       "</div>"
      ],
      "text/plain": [
       "                feature  importance\n",
       "0               traffic    0.079100\n",
       "1             one_timer    0.000000\n",
       "2               is_home    0.000000\n",
       "3        home_advantage    0.020577\n",
       "4                 level    0.000000\n",
       "5           clock_delta    0.000000\n",
       "6   prev_event_distance    0.000000\n",
       "7          net_distance    0.506771\n",
       "8             net_angle    0.308490\n",
       "9                  Play    0.000000\n",
       "10        Puck Recovery    0.000000\n",
       "11                 Shot    0.000000\n",
       "12             Takeaway    0.085063\n",
       "13           Zone Entry    0.000000"
      ]
     },
     "execution_count": 54,
     "metadata": {},
     "output_type": "execute_result"
    }
   ],
   "source": [
    "pd.DataFrame({'feature':ncaa_X.columns, 'importance':ncaatree.feature_importances_})"
   ]
  },
  {
   "cell_type": "code",
   "execution_count": 55,
   "id": "recreational-excellence",
   "metadata": {},
   "outputs": [
    {
     "data": {
      "image/png": "[encoded data removed]",
      "text/plain": [
       "<Figure size 1008x432 with 1 Axes>"
      ]
     },
     "metadata": {
      "needs_background": "light"
     },
     "output_type": "display_data"
    }
   ],
   "source": [
    "fig, ax = plt.subplots(1,1, figsize=(14,6))\n",
    "plot_tree(ncaatree, feature_names=ncaa_X.columns, fontsize=12, filled=True);"
   ]
  },
  {
   "cell_type": "code",
   "execution_count": null,
   "id": "abandoned-crest",
   "metadata": {},
   "outputs": [],
   "source": []
  }
 ],
 "metadata": {
  "kernelspec": {
   "display_name": "Python 3",
   "language": "python",
   "name": "python3"
  },
  "language_info": {
   "codemirror_mode": {
    "name": "ipython",
    "version": 3
   },
   "file_extension": ".py",
   "mimetype": "text/x-python",
   "name": "python",
   "nbconvert_exporter": "python",
   "pygments_lexer": "ipython3",
   "version": "3.9.2"
  }
 },
 "nbformat": 4,
 "nbformat_minor": 5
}
